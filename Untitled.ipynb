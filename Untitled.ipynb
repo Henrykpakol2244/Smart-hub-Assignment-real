{
 "cells": [
  {
   "cell_type": "code",
   "execution_count": 1,
   "id": "d87491f8-ba77-49f6-a1df-7dd606e8bcf4",
   "metadata": {},
   "outputs": [],
   "source": [
    "## FUNCTION "
   ]
  },
  {
   "cell_type": "code",
   "execution_count": 5,
   "id": "303e4ecf-c4b3-47eb-86d3-aa550d503186",
   "metadata": {},
   "outputs": [
    {
     "data": {
      "text/plain": [
       "18"
      ]
     },
     "execution_count": 5,
     "metadata": {},
     "output_type": "execute_result"
    }
   ],
   "source": [
    "def add(x,y):# x and y are parameters\n",
    "    result=x+y\n",
    "    return result\n",
    "add (6,12)# 6 and 12 are argument"
   ]
  },
  {
   "cell_type": "code",
   "execution_count": 7,
   "id": "08e050fd-51aa-47fe-b3ab-a4d97358359b",
   "metadata": {},
   "outputs": [],
   "source": [
    "def hypotenuse (a,b):#\n",
    "    '''takes a, and b and return the hypotenuse'''\n",
    "    result=(a**2+b**4)**0.5\n",
    "    return hyp"
   ]
  },
  {
   "cell_type": "code",
   "execution_count": null,
   "id": "d9b8dffd-d28a-4781-8135-3a2b7fcbb05b",
   "metadata": {},
   "outputs": [],
   "source": []
  }
 ],
 "metadata": {
  "kernelspec": {
   "display_name": "Python 3 (ipykernel)",
   "language": "python",
   "name": "python3"
  },
  "language_info": {
   "codemirror_mode": {
    "name": "ipython",
    "version": 3
   },
   "file_extension": ".py",
   "mimetype": "text/x-python",
   "name": "python",
   "nbconvert_exporter": "python",
   "pygments_lexer": "ipython3",
   "version": "3.12.7"
  }
 },
 "nbformat": 4,
 "nbformat_minor": 5
}
