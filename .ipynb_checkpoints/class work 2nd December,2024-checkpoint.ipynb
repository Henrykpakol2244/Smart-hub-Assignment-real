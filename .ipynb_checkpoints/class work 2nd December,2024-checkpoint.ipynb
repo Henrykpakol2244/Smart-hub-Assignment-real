{
 "cells": [
  {
   "cell_type": "code",
   "execution_count": 1,
   "id": "c596f2cd-5434-4b05-8723-d5e7d6e4185f",
   "metadata": {},
   "outputs": [],
   "source": [
    "# function"
   ]
  },
  {
   "cell_type": "code",
   "execution_count": null,
   "id": "1921dea7-52b7-48b2-bc54-53430f0178f8",
   "metadata": {},
   "outputs": [],
   "source": []
  }
 ],
 "metadata": {
  "kernelspec": {
   "display_name": "Python 3 (ipykernel)",
   "language": "python",
   "name": "python3"
  },
  "language_info": {
   "codemirror_mode": {
    "name": "ipython",
    "version": 3
   },
   "file_extension": ".py",
   "mimetype": "text/x-python",
   "name": "python",
   "nbconvert_exporter": "python",
   "pygments_lexer": "ipython3",
   "version": "3.12.7"
  }
 },
 "nbformat": 4,
 "nbformat_minor": 5
}
