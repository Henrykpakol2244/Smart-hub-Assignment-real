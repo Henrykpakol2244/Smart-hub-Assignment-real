{
 "cells": [
  {
   "cell_type": "markdown",
   "id": "241e88fb-58f5-4d6a-928c-e093d779bab3",
   "metadata": {},
   "source": [
    "## Question 1"
   ]
  },
  {
   "cell_type": "code",
   "execution_count": 11,
   "id": "0f3fac8e-0957-43cd-97c6-d60a09ee5fb3",
   "metadata": {},
   "outputs": [],
   "source": [
    "# using for-loop"
   ]
  },
  {
   "cell_type": "code",
   "execution_count": 1,
   "id": "88768027-78f5-46e9-81b9-0a0f0f0a6f00",
   "metadata": {},
   "outputs": [
    {
     "name": "stdout",
     "output_type": "stream",
     "text": [
      "['5', '4', '3', '6']\n"
     ]
    }
   ],
   "source": [
    "students =['5','4','5','3','6']\n",
    "new_list=[]\n",
    "for one_student_choice in students:\n",
    "    if one_student_choice not in new_list:\n",
    "        new_list.append(one_student_choice)\n",
    "print(new_list)"
   ]
  },
  {
   "cell_type": "code",
   "execution_count": 4,
   "id": "d1b9d6aa-dc76-4ac7-ad8a-7c56a9296f0c",
   "metadata": {},
   "outputs": [],
   "source": [
    "## Question 2"
   ]
  },
  {
   "cell_type": "code",
   "execution_count": null,
   "id": "9a876fbf-d434-49dc-a067-5fb551cfc961",
   "metadata": {},
   "outputs": [],
   "source": [
    "## list"
   ]
  },
  {
   "cell_type": "code",
   "execution_count": 11,
   "id": "4335ee8f-7d0d-4827-bc76-2f749c1fb829",
   "metadata": {},
   "outputs": [
    {
     "name": "stdout",
     "output_type": "stream",
     "text": [
      "1\n",
      "7\n"
     ]
    }
   ],
   "source": [
    "mylist=[4,5,6,1,4,3,7,3]\n",
    "print(min(mylist))\n",
    "print(max(mylist))"
   ]
  },
  {
   "cell_type": "code",
   "execution_count": 12,
   "id": "011dc451-c8cf-4539-b3f3-bac566ea50a4",
   "metadata": {},
   "outputs": [],
   "source": [
    "## Question 3"
   ]
  },
  {
   "cell_type": "code",
   "execution_count": null,
   "id": "0c873029-a9ca-453f-b18d-26a3ee6b3192",
   "metadata": {},
   "outputs": [],
   "source": [
    "## using list "
   ]
  },
  {
   "cell_type": "code",
   "execution_count": 17,
   "id": "f3a9c248-3bc2-48f8-9dfd-2d8ee3a29c82",
   "metadata": {},
   "outputs": [
    {
     "name": "stdout",
     "output_type": "stream",
     "text": [
      "{10, 4, 5}\n"
     ]
    }
   ],
   "source": [
    "mylist1=[3,4,5,8,5,10,5]\n",
    "mylist2=[9,5,4,5,6,11,10,12]\n",
    "set1=set(mylist1)\n",
    "set2=set(mylist2)\n",
    "common_elements=(set1.intersection(set2))\n",
    "print(common_elements)"
   ]
  },
  {
   "cell_type": "markdown",
   "id": "9b801abe-9236-4fd4-b0f1-a509095f1656",
   "metadata": {},
   "source": [
    "# Question 4"
   ]
  },
  {
   "cell_type": "code",
   "execution_count": 2,
   "id": "8f97a6bc-ec11-473b-82cd-76e02a35f956",
   "metadata": {},
   "outputs": [],
   "source": [
    "# method: using for loop"
   ]
  },
  {
   "cell_type": "code",
   "execution_count": 71,
   "id": "89f74989-7c91-450e-a40e-ad2e0d414fcf",
   "metadata": {},
   "outputs": [],
   "source": [
    "def filter_even_numbers(numbers):\n",
    "    even_numbers = []\n",
    "    for num in numbers:\n",
    "        if num % 2 == 0:\n",
    "            even_numbers.append(num)\n",
    "            return even_numbers"
   ]
  },
  {
   "cell_type": "code",
   "execution_count": 75,
   "id": "31c69411-dfd1-4b36-bed9-bc48a7198a38",
   "metadata": {},
   "outputs": [
    {
     "name": "stdout",
     "output_type": "stream",
     "text": [
      "original list: [1, 2, 3, 4, 5, 6, 7, 8, 9, 10]\n",
      "even numbers: [2]\n"
     ]
    }
   ],
   "source": [
    "numbers_list = [1, 2, 3, 4, 5, 6, 7, 8, 9, 10]\n",
    "result = filter_even_numbers(numbers_list)\n",
    "print(\"original list:\", numbers_list)\n",
    "print(\"even numbers:\", result)"
   ]
  },
  {
   "cell_type": "code",
   "execution_count": 76,
   "id": "fcf8501f-6540-44d9-bc58-5ba733d4b6b5",
   "metadata": {},
   "outputs": [],
   "source": [
    "# Question 5"
   ]
  },
  {
   "cell_type": "code",
   "execution_count": 83,
   "id": "3f2ad178-1983-4db1-9b84-6d1087ea73f6",
   "metadata": {},
   "outputs": [],
   "source": [
    " def count_vowels(input_string):\n",
    "     vowels = \"aeiouAEIOU\"\n",
    "     count = 0\n",
    "     for char in input_string:\n",
    "         if char in vowels:\n",
    "             count += 5\n",
    "             return count"
   ]
  },
  {
   "cell_type": "code",
   "execution_count": 84,
   "id": "09c4f810-8056-4b8e-992c-7fcf58915833",
   "metadata": {},
   "outputs": [
    {
     "name": "stdout",
     "output_type": "stream",
     "text": [
      "Number of vowels in the string:5\n"
     ]
    }
   ],
   "source": [
    "solve_string = \"Hello, how are you?\"\n",
    "vowel_count = count_vowels(solve_string)\n",
    "print(f\"Number of vowels in the string:{vowel_count}\")"
   ]
  },
  {
   "cell_type": "code",
   "execution_count": 1,
   "id": "8364c77b-af3a-412b-bcc6-3c979e0c28c0",
   "metadata": {},
   "outputs": [],
   "source": [
    "# Question 6"
   ]
  },
  {
   "cell_type": "code",
   "execution_count": 2,
   "id": "984c5dfa-7d92-4278-9f5b-7622f2d9aa4b",
   "metadata": {},
   "outputs": [],
   "source": [
    "# using a loop"
   ]
  },
  {
   "cell_type": "code",
   "execution_count": 34,
   "id": "a9b54bd8-311d-4ae7-ab6f-5bd140643fa3",
   "metadata": {},
   "outputs": [
    {
     "name": "stdout",
     "output_type": "stream",
     "text": [
      "the first 10 numbers in the fibonacci sequence are: [0, 1, 1, 2, 3, 5, 8, 13, 21, 34]\n"
     ]
    }
   ],
   "source": [
    "def fibonacci_sequence(n):\n",
    "    fib_sequence = [0, 1]\n",
    "    for i in range(2, n):\n",
    "        next_number = fib_sequence[i - 1] + fib_sequence[i - 2]\n",
    "        fib_sequence.append(next_number)\n",
    "    return fib_sequence\n",
    "n =10\n",
    "result = fibonacci_sequence(10)\n",
    "print(f\"the first {n} numbers in the fibonacci sequence are: {result}\")\n"
   ]
  },
  {
   "cell_type": "code",
   "execution_count": 35,
   "id": "184e5522-05b4-4436-91ae-66dacc3f20ae",
   "metadata": {},
   "outputs": [],
   "source": [
    "# Question 7"
   ]
  },
  {
   "cell_type": "code",
   "execution_count": 36,
   "id": "d6d68842-71c6-4e84-a190-7b2c3fcbe2e4",
   "metadata": {},
   "outputs": [],
   "source": [
    "# using tuple upacking"
   ]
  },
  {
   "cell_type": "code",
   "execution_count": 42,
   "id": "6dec6488-d4fe-4ffb-9e44-367671135f6c",
   "metadata": {},
   "outputs": [
    {
     "name": "stdout",
     "output_type": "stream",
     "text": [
      "Before swapping: a = 20, b = 10\n",
      "After swapping: a = 10, b = 20\n"
     ]
    }
   ],
   "source": [
    "def swap_values(a, b):\n",
    "    print(f\"Before swapping: a = {a}, b = {b}\")\n",
    "    a, b = b, a \n",
    "    print(f\"After swapping: a = {a}, b = {b}\")\n",
    "    return a, b\n",
    "# Example\n",
    "x = 20\n",
    "y = 10\n",
    "x, y = swap_values(x,y)"
   ]
  },
  {
   "cell_type": "code",
   "execution_count": 43,
   "id": "6eb96e16-4206-466b-bb4e-9910a0dc2238",
   "metadata": {},
   "outputs": [],
   "source": [
    "# Question 8"
   ]
  },
  {
   "cell_type": "code",
   "execution_count": 46,
   "id": "2505ef47-90d1-4b68-81da-edb9c9ea049e",
   "metadata": {},
   "outputs": [],
   "source": [
    "## using the built in sum"
   ]
  },
  {
   "cell_type": "code",
   "execution_count": 47,
   "id": "ccbaf972-9fd6-4959-a71f-35ddbad0f119",
   "metadata": {},
   "outputs": [
    {
     "name": "stdout",
     "output_type": "stream",
     "text": [
      "the sum of [10, 20, 30, 40, 50, 20] is: 170\n"
     ]
    }
   ],
   "source": [
    "def sum_of_numbers(numbers):\n",
    "    \"\"\"\n",
    "    takes a list of numbers and returns their sum.\n",
    "    \"\"\"\n",
    "    total = sum(numbers)\n",
    "    return total\n",
    "# Example\n",
    "example_list = [10, 20, 30,40,50, 20]\n",
    "result = sum_of_numbers(example_list)\n",
    "print(f\"the sum of {example_list} is: {result}\")"
   ]
  },
  {
   "cell_type": "code",
   "execution_count": 48,
   "id": "b4d38598-17f9-4246-abf5-1e5ad3b44b71",
   "metadata": {},
   "outputs": [],
   "source": [
    "# Question 9"
   ]
  },
  {
   "cell_type": "code",
   "execution_count": 61,
   "id": "1b3605bb-d8d6-44a5-b7dd-dd592ce9c6ad",
   "metadata": {},
   "outputs": [
    {
     "name": "stdout",
     "output_type": "stream",
     "text": [
      "strings starting with 'a': ['apple', 'avocado', 'apricot']\n"
     ]
    }
   ],
   "source": [
    "def filter_strings_starting_with_a(strings):\n",
    "    result = [s for s in strings if s.startswith('a')]\n",
    "    return result\n",
    "# Example usage\n",
    "example_strings = [\"apple\", \"banana\",\"avocado\",\"cherry\",\"apricot\", \"blueberry\"]\n",
    "filtered_strings = filter_strings_starting_with_a(example_strings)\n",
    "print(\"strings starting with 'a':\", filtered_strings)"
   ]
  },
  {
   "cell_type": "code",
   "execution_count": 54,
   "id": "1e461710-9a15-4a83-a5c3-fcb848446d76",
   "metadata": {},
   "outputs": [],
   "source": [
    "# Question 10"
   ]
  },
  {
   "cell_type": "code",
   "execution_count": 7,
   "id": "6931df59-1b89-480f-b1a5-70b55d652200",
   "metadata": {},
   "outputs": [],
   "source": [
    "# using def function"
   ]
  },
  {
   "cell_type": "code",
   "execution_count": 6,
   "id": "a9e4ec72-3612-4ac4-b0e7-bd87112a6a62",
   "metadata": {},
   "outputs": [
    {
     "ename": "SyntaxError",
     "evalue": "expected '(' (468363051.py, line 1)",
     "output_type": "error",
     "traceback": [
      "\u001b[1;36m  Cell \u001b[1;32mIn[6], line 1\u001b[1;36m\u001b[0m\n\u001b[1;33m    def function stringToWords(str) {\u001b[0m\n\u001b[1;37m                 ^\u001b[0m\n\u001b[1;31mSyntaxError\u001b[0m\u001b[1;31m:\u001b[0m expected '('\n"
     ]
    }
   ],
   "source": [
    "def function stringToWords(str) {\n",
    "    return str.match(/\\bw+\\b/g) // [];\n",
    "}\n",
    "// Example \n",
    "const exampleString = \"Hello, world! Welcome to JavaScriptprogramming.\";\n",
    "const wordsArray = stringsToWords(exampleString);\n",
    "console.log(\"Array of words:\", wordsArray);"
   ]
  }
 ],
 "metadata": {
  "kernelspec": {
   "display_name": "Python 3 (ipykernel)",
   "language": "python",
   "name": "python3"
  },
  "language_info": {
   "codemirror_mode": {
    "name": "ipython",
    "version": 3
   },
   "file_extension": ".py",
   "mimetype": "text/x-python",
   "name": "python",
   "nbconvert_exporter": "python",
   "pygments_lexer": "ipython3",
   "version": "3.12.7"
  }
 },
 "nbformat": 4,
 "nbformat_minor": 5
}
