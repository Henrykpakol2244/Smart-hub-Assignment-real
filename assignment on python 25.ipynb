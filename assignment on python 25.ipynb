{
 "cells": [
  {
   "cell_type": "markdown",
   "id": "241e88fb-58f5-4d6a-928c-e093d779bab3",
   "metadata": {},
   "source": [
    "## Question 1"
   ]
  },
  {
   "cell_type": "code",
   "execution_count": 11,
   "id": "0f3fac8e-0957-43cd-97c6-d60a09ee5fb3",
   "metadata": {},
   "outputs": [],
   "source": [
    "# using for-loop"
   ]
  },
  {
   "cell_type": "code",
   "execution_count": 13,
   "id": "88768027-78f5-46e9-81b9-0a0f0f0a6f00",
   "metadata": {},
   "outputs": [
    {
     "name": "stdout",
     "output_type": "stream",
     "text": [
      "['5']\n",
      "['5', '4']\n",
      "['5', '4', '3']\n",
      "['5', '4', '3', '6']\n"
     ]
    }
   ],
   "source": [
    "students =['5','4','5','3','6']\n",
    "new_list=[]\n",
    "for one_student_choice in students:\n",
    "    if one_student_choice not in new_list:\n",
    "        new_list.append(one_student_choice)\n",
    "        print(new_list)"
   ]
  },
  {
   "cell_type": "code",
   "execution_count": 4,
   "id": "d1b9d6aa-dc76-4ac7-ad8a-7c56a9296f0c",
   "metadata": {},
   "outputs": [],
   "source": [
    "## Question 2"
   ]
  },
  {
   "cell_type": "code",
   "execution_count": null,
   "id": "9a876fbf-d434-49dc-a067-5fb551cfc961",
   "metadata": {},
   "outputs": [],
   "source": [
    "## list"
   ]
  },
  {
   "cell_type": "code",
   "execution_count": 11,
   "id": "4335ee8f-7d0d-4827-bc76-2f749c1fb829",
   "metadata": {},
   "outputs": [
    {
     "name": "stdout",
     "output_type": "stream",
     "text": [
      "1\n",
      "7\n"
     ]
    }
   ],
   "source": [
    "mylist=[4,5,6,1,4,3,7,3]\n",
    "print(min(mylist))\n",
    "print(max(mylist))"
   ]
  },
  {
   "cell_type": "code",
   "execution_count": 12,
   "id": "011dc451-c8cf-4539-b3f3-bac566ea50a4",
   "metadata": {},
   "outputs": [],
   "source": [
    "## Question 3"
   ]
  },
  {
   "cell_type": "code",
   "execution_count": null,
   "id": "0c873029-a9ca-453f-b18d-26a3ee6b3192",
   "metadata": {},
   "outputs": [],
   "source": [
    "## using list "
   ]
  },
  {
   "cell_type": "code",
   "execution_count": 17,
   "id": "f3a9c248-3bc2-48f8-9dfd-2d8ee3a29c82",
   "metadata": {},
   "outputs": [
    {
     "name": "stdout",
     "output_type": "stream",
     "text": [
      "{10, 4, 5}\n"
     ]
    }
   ],
   "source": [
    "mylist1=[3,4,5,8,5,10,5]\n",
    "mylist2=[9,5,4,5,6,11,10,12]\n",
    "set1=set(mylist1)\n",
    "set2=set(mylist2)\n",
    "common_elements=(set1.intersection(set2))\n",
    "print(common_elements)"
   ]
  },
  {
   "cell_type": "markdown",
   "id": "9b801abe-9236-4fd4-b0f1-a509095f1656",
   "metadata": {},
   "source": [
    "# Question 4"
   ]
  },
  {
   "cell_type": "code",
   "execution_count": 2,
   "id": "8f97a6bc-ec11-473b-82cd-76e02a35f956",
   "metadata": {},
   "outputs": [],
   "source": [
    "# method: using for loop"
   ]
  },
  {
   "cell_type": "code",
   "execution_count": 71,
   "id": "89f74989-7c91-450e-a40e-ad2e0d414fcf",
   "metadata": {},
   "outputs": [],
   "source": [
    "def filter_even_numbers(numbers):\n",
    "    even_numbers = []\n",
    "    for num in numbers:\n",
    "        if num % 2 == 0:\n",
    "            even_numbers.append(num)\n",
    "            return even_numbers"
   ]
  },
  {
   "cell_type": "code",
   "execution_count": 75,
   "id": "31c69411-dfd1-4b36-bed9-bc48a7198a38",
   "metadata": {},
   "outputs": [
    {
     "name": "stdout",
     "output_type": "stream",
     "text": [
      "original list: [1, 2, 3, 4, 5, 6, 7, 8, 9, 10]\n",
      "even numbers: [2]\n"
     ]
    }
   ],
   "source": [
    "numbers_list = [1, 2, 3, 4, 5, 6, 7, 8, 9, 10]\n",
    "result = filter_even_numbers(numbers_list)\n",
    "print(\"original list:\", numbers_list)\n",
    "print(\"even numbers:\", result)"
   ]
  },
  {
   "cell_type": "code",
   "execution_count": 76,
   "id": "fcf8501f-6540-44d9-bc58-5ba733d4b6b5",
   "metadata": {},
   "outputs": [],
   "source": [
    "# Question 5"
   ]
  },
  {
   "cell_type": "code",
   "execution_count": 83,
   "id": "3f2ad178-1983-4db1-9b84-6d1087ea73f6",
   "metadata": {},
   "outputs": [],
   "source": [
    " def count_vowels(input_string):\n",
    "     vowels = \"aeiouAEIOU\"\n",
    "     count = 0\n",
    "     for char in input_string:\n",
    "         if char in vowels:\n",
    "             count += 5\n",
    "             return count"
   ]
  },
  {
   "cell_type": "code",
   "execution_count": 84,
   "id": "09c4f810-8056-4b8e-992c-7fcf58915833",
   "metadata": {},
   "outputs": [
    {
     "name": "stdout",
     "output_type": "stream",
     "text": [
      "Number of vowels in the string:5\n"
     ]
    }
   ],
   "source": [
    "solve_string = \"Hello, how are you?\"\n",
    "vowel_count = count_vowels(solve_string)\n",
    "print(f\"Number of vowels in the string:{vowel_count}\")"
   ]
  },
  {
   "cell_type": "code",
   "execution_count": null,
   "id": "8364c77b-af3a-412b-bcc6-3c979e0c28c0",
   "metadata": {},
   "outputs": [],
   "source": []
  }
 ],
 "metadata": {
  "kernelspec": {
   "display_name": "Python 3 (ipykernel)",
   "language": "python",
   "name": "python3"
  },
  "language_info": {
   "codemirror_mode": {
    "name": "ipython",
    "version": 3
   },
   "file_extension": ".py",
   "mimetype": "text/x-python",
   "name": "python",
   "nbconvert_exporter": "python",
   "pygments_lexer": "ipython3",
   "version": "3.12.7"
  }
 },
 "nbformat": 4,
 "nbformat_minor": 5
}
